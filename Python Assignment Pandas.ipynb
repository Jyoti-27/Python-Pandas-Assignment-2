{
 "cells": [
  {
   "cell_type": "code",
   "execution_count": 4,
   "metadata": {},
   "outputs": [
    {
     "name": "stdout",
     "output_type": "stream",
     "text": [
      "DataFrame Created is    0\n",
      "0  A\n",
      "1  B\n",
      "2  C\n",
      "3  D\n"
     ]
    }
   ],
   "source": [
    "# Q.1 Define and create a Dataframe using Pandas.\n",
    "\n",
    "import pandas as pd\n",
    "dataframe1 = pd.DataFrame(['A', 'B', 'C', 'D'])\n",
    "print(\"DataFrame Created is\", dataframe1)"
   ]
  },
  {
   "cell_type": "code",
   "execution_count": 5,
   "metadata": {},
   "outputs": [
    {
     "name": "stdout",
     "output_type": "stream",
     "text": [
      "Standard Deviation for Series1 0.35118845842842467\n"
     ]
    }
   ],
   "source": [
    "# Q.2 How can we calculate the standard deviation from the series.\n",
    "\n",
    "series1 = pd.Series([0.9, 0.8, 0.3, 0.2])\n",
    "print(\"Standard Deviation for Series1\",series1.std())"
   ]
  },
  {
   "cell_type": "code",
   "execution_count": 6,
   "metadata": {},
   "outputs": [
    {
     "name": "stdout",
     "output_type": "stream",
     "text": [
      "the Dataframe from list\n",
      "         0\n",
      "0  Python\n",
      "1   Numpy\n",
      "2  Pandas\n"
     ]
    }
   ],
   "source": [
    "# Q.3 Create a Dataframe using List given below: lis= [‘Python’,’Numpy’,’Pandas’]\n",
    "\n",
    "lis=['Python','Numpy','Pandas']\n",
    "df_list=pd.DataFrame(lis)\n",
    "print(\"the Dataframe from list\\n\",df_list)"
   ]
  },
  {
   "cell_type": "code",
   "execution_count": 7,
   "metadata": {},
   "outputs": [
    {
     "name": "stdout",
     "output_type": "stream",
     "text": [
      "The Series from Dictionary is x    0\n",
      "y    1\n",
      "z    2\n",
      "dtype: int64\n"
     ]
    }
   ],
   "source": [
    "# Q.4 Create a Series from dictionary given below: info = {'x' : 0., 'y' : 1., 'z' : 2.}\n",
    "\n",
    "info = {'x' : 0, 'y' : 1, 'z' : 2}\n",
    "ser_dc=pd.Series(info)\n",
    "print(\"The Series from Dictionary is\",ser_dc)"
   ]
  },
  {
   "cell_type": "code",
   "execution_count": 8,
   "metadata": {},
   "outputs": [
    {
     "name": "stdout",
     "output_type": "stream",
     "text": [
      "Empty DataFrame Empty DataFrame\n",
      "Columns: []\n",
      "Index: []\n"
     ]
    }
   ],
   "source": [
    "# Q.5 How will you create an empty Dataframe in Pandas?\n",
    "\n",
    "df_1 = pd.DataFrame()   \n",
    "print(\"Empty DataFrame\",df_1)"
   ]
  },
  {
   "cell_type": "code",
   "execution_count": 10,
   "metadata": {},
   "outputs": [
    {
     "name": "stdout",
     "output_type": "stream",
     "text": [
      "Dataframe Created in 1st Question    0 Age\n",
      "0  A  10\n",
      "1  B  12\n",
      "2  C  13\n",
      "3  D  14\n",
      "Dataframe after Adding Column\n",
      "    0 Age\n",
      "0  A  10\n",
      "1  B  12\n",
      "2  C  13\n",
      "3  D  14\n",
      "Dataframe after Changing Index\n",
      "     0 Age\n",
      "A1  A  10\n",
      "B1  B  12\n",
      "C1  C  13\n",
      "D1  D  14\n"
     ]
    }
   ],
   "source": [
    "# Q.6\n",
    "# i) Add a column to that pandas Dataframe that you created in Q.1\n",
    "# ii) Change index of that Dataframe.\n",
    "\n",
    "print(\"Dataframe Created in 1st Question\",dataframe1)\n",
    "Age=['10','12','13','14']\n",
    "dataframe1['Age']=Age\n",
    "#i) Add a column to that pandas Dataframe that you created in Q1\n",
    "print(\"Dataframe after Adding Column\\n\",dataframe1)\n",
    "# ii) Change index of that Dataframe.\n",
    "newindex=['A1','B1','C1','D1']\n",
    "print(\"Dataframe after Changing Index\\n\",dataframe1.set_index([pd.Index(['A1','B1', 'C1', 'D1'])]))"
   ]
  },
  {
   "cell_type": "code",
   "execution_count": 11,
   "metadata": {},
   "outputs": [
    {
     "name": "stdout",
     "output_type": "stream",
     "text": [
      "\n",
      " Mean is field_A    40.0\n",
      "field_B    50.1\n",
      "dtype: float64\n",
      "\n",
      " Median is field_A    35.5\n",
      "field_B    44.5\n",
      "dtype: float64\n",
      "\n",
      " Mode is    field_A  field_B\n",
      "0     69.0        1\n",
      "1      NaN       13\n",
      "2      NaN       24\n",
      "3      NaN       26\n",
      "4      NaN       40\n",
      "5      NaN       49\n",
      "6      NaN       81\n",
      "7      NaN       83\n",
      "8      NaN       91\n",
      "9      NaN       93\n",
      "\n",
      " 75th Percentile field_A    57.25\n",
      "field_B    82.50\n",
      "Name: 0.75, dtype: float64\n",
      "\n",
      " 90th Percentile field_A    69.0\n",
      "field_B    91.2\n",
      "Name: 0.9, dtype: float64\n",
      "\n",
      " 99th Percentile field_A    69.00\n",
      "field_B    92.82\n",
      "Name: 0.99, dtype: float64\n"
     ]
    }
   ],
   "source": [
    "# Q.7 Get the following from this dataframe:\n",
    "\n",
    "# import random\n",
    "# A = [ random.randint(0,100) for i in range(10) ]\n",
    "# B = [ random.randint(0,100) for i in range(10) ]\n",
    "# df = pd.DataFrame({ 'field_A': A, 'field_B': B })\n",
    "# i) mean\n",
    "# ii) median\n",
    "# iii) mode\n",
    "# iv) 75th percentile\n",
    "# v) 90th percentile\n",
    "# vi) 99th percentile\n",
    "\n",
    "\n",
    "\n",
    "import random\n",
    "A = [ random.randint(0,100) for i in range(10) ]\n",
    "B = [ random.randint(0,100) for i in range(10) ]\n",
    "df = pd.DataFrame({ 'field_A': A, 'field_B': B })\n",
    "print(\"\\n Mean is\",df.mean())\n",
    "print(\"\\n Median is\",df.median())\n",
    "print(\"\\n Mode is\",df.mode())\n",
    "print(\"\\n 75th Percentile\",df.quantile(0.75))\n",
    "print(\"\\n 90th Percentile\",df.quantile(0.9))\n",
    "print(\"\\n 99th Percentile\",df.quantile(0.99))"
   ]
  },
  {
   "cell_type": "code",
   "execution_count": 12,
   "metadata": {},
   "outputs": [
    {
     "name": "stdout",
     "output_type": "stream",
     "text": [
      "        Name  Age\n",
      "0     Ramesh   36\n",
      "1  Siddharth   28\n",
      "2   Siddhesh   33\n",
      "3  Siddharth   28\n",
      "4    Karthik   28\n",
      "5      Sunny   31\n",
      "6     Ramesh   36\n",
      "No of Unique Rows are 5\n"
     ]
    }
   ],
   "source": [
    "# Q.8 How do you count how many unique rows a DataFrame has (i.e. ignore all rows that are duplicates)?\n",
    "\n",
    "data={'Name': ['Ramesh','Siddharth','Siddhesh','Siddharth','Karthik','Sunny','Ramesh'],\n",
    "          'Age': [36,28,33,28,28,31,36]}\n",
    "df=pd.DataFrame(data)\n",
    "print(pd.DataFrame(df,columns=['Name','Age']))\n",
    "print(\"No of Unique Rows are\",len(df.drop_duplicates()))"
   ]
  },
  {
   "cell_type": "code",
   "execution_count": 13,
   "metadata": {},
   "outputs": [
    {
     "name": "stdout",
     "output_type": "stream",
     "text": [
      "Original Series is 0     4\n",
      "1     3\n",
      "2     3\n",
      "3     3\n",
      "4     2\n",
      "5     1\n",
      "6     3\n",
      "7     2\n",
      "8     2\n",
      "9     3\n",
      "10    4\n",
      "11    4\n",
      "dtype: int32\n",
      "After not replacing top 2 most frequent values and  everything else as Other 0         4\n",
      "1         3\n",
      "2         3\n",
      "3         3\n",
      "4     Other\n",
      "5     Other\n",
      "6         3\n",
      "7     Other\n",
      "8     Other\n",
      "9         3\n",
      "10        4\n",
      "11        4\n",
      "dtype: object\n"
     ]
    }
   ],
   "source": [
    "# Q.9 How to keep only top 2 most frequent values as it is and replace everything else as ‘Other’? Take the following as input.\n",
    "\n",
    "# np.random.RandomState(100)\n",
    "# ser = pd.Series(np.random.randint(1, 5, [12]))\n",
    "\n",
    "\n",
    "import numpy as np\n",
    "np.random.RandomState(100)\n",
    "ser = pd.Series(np.random.randint(1, 5, [12]))\n",
    "print(\"Original Series is\",ser)\n",
    "ser[~ser.isin(ser.value_counts().index[:2])] = 'Other'\n",
    "print(\"After not replacing top 2 most frequent values and  everything else as Other\",ser)"
   ]
  },
  {
   "cell_type": "code",
   "execution_count": 14,
   "metadata": {},
   "outputs": [
    {
     "data": {
      "text/html": [
       "<div>\n",
       "<style scoped>\n",
       "    .dataframe tbody tr th:only-of-type {\n",
       "        vertical-align: middle;\n",
       "    }\n",
       "\n",
       "    .dataframe tbody tr th {\n",
       "        vertical-align: top;\n",
       "    }\n",
       "\n",
       "    .dataframe thead th {\n",
       "        text-align: right;\n",
       "    }\n",
       "</style>\n",
       "<table border=\"1\" class=\"dataframe\">\n",
       "  <thead>\n",
       "    <tr style=\"text-align: right;\">\n",
       "      <th></th>\n",
       "      <th>grps</th>\n",
       "      <th>vals</th>\n",
       "    </tr>\n",
       "  </thead>\n",
       "  <tbody>\n",
       "    <tr>\n",
       "      <th>0</th>\n",
       "      <td>a</td>\n",
       "      <td>12</td>\n",
       "    </tr>\n",
       "    <tr>\n",
       "      <th>1</th>\n",
       "      <td>a</td>\n",
       "      <td>345</td>\n",
       "    </tr>\n",
       "    <tr>\n",
       "      <th>2</th>\n",
       "      <td>a</td>\n",
       "      <td>3</td>\n",
       "    </tr>\n",
       "    <tr>\n",
       "      <th>3</th>\n",
       "      <td>b</td>\n",
       "      <td>1</td>\n",
       "    </tr>\n",
       "    <tr>\n",
       "      <th>4</th>\n",
       "      <td>b</td>\n",
       "      <td>45</td>\n",
       "    </tr>\n",
       "    <tr>\n",
       "      <th>5</th>\n",
       "      <td>c</td>\n",
       "      <td>14</td>\n",
       "    </tr>\n",
       "    <tr>\n",
       "      <th>6</th>\n",
       "      <td>a</td>\n",
       "      <td>4</td>\n",
       "    </tr>\n",
       "    <tr>\n",
       "      <th>7</th>\n",
       "      <td>a</td>\n",
       "      <td>52</td>\n",
       "    </tr>\n",
       "    <tr>\n",
       "      <th>8</th>\n",
       "      <td>b</td>\n",
       "      <td>54</td>\n",
       "    </tr>\n",
       "    <tr>\n",
       "      <th>9</th>\n",
       "      <td>c</td>\n",
       "      <td>23</td>\n",
       "    </tr>\n",
       "    <tr>\n",
       "      <th>10</th>\n",
       "      <td>c</td>\n",
       "      <td>235</td>\n",
       "    </tr>\n",
       "    <tr>\n",
       "      <th>11</th>\n",
       "      <td>c</td>\n",
       "      <td>21</td>\n",
       "    </tr>\n",
       "    <tr>\n",
       "      <th>12</th>\n",
       "      <td>b</td>\n",
       "      <td>57</td>\n",
       "    </tr>\n",
       "    <tr>\n",
       "      <th>13</th>\n",
       "      <td>b</td>\n",
       "      <td>3</td>\n",
       "    </tr>\n",
       "    <tr>\n",
       "      <th>14</th>\n",
       "      <td>c</td>\n",
       "      <td>87</td>\n",
       "    </tr>\n",
       "  </tbody>\n",
       "</table>\n",
       "</div>"
      ],
      "text/plain": [
       "   grps  vals\n",
       "0     a    12\n",
       "1     a   345\n",
       "2     a     3\n",
       "3     b     1\n",
       "4     b    45\n",
       "5     c    14\n",
       "6     a     4\n",
       "7     a    52\n",
       "8     b    54\n",
       "9     c    23\n",
       "10    c   235\n",
       "11    c    21\n",
       "12    b    57\n",
       "13    b     3\n",
       "14    c    87"
      ]
     },
     "execution_count": 14,
     "metadata": {},
     "output_type": "execute_result"
    }
   ],
   "source": [
    "# Q.10 A DataFrame has a column of groups 'grps' and and column of integer values 'vals':\n",
    "\n",
    "# df = pd.DataFrame({'grps':\n",
    "# list('aaabbcaabcccbbc'),'vals': [12, 345, 3, 1, 45, 14 , 4, 52, 54, 23, 235,21, 57, 3, 87]})\n",
    "\n",
    "df = pd.DataFrame({'grps':list('aaabbcaabcccbbc'),'vals': [12, 345, 3, 1, 45, 14 , 4, 52, 54, 23, 235,21, 57, 3, 87]})\n",
    "df"
   ]
  },
  {
   "cell_type": "code",
   "execution_count": 15,
   "metadata": {},
   "outputs": [
    {
     "name": "stdout",
     "output_type": "stream",
     "text": [
      "For each group, find the sum of the three greatest values grps\n",
      "a    409\n",
      "b    156\n",
      "c    345\n",
      "Name: vals, dtype: int64\n"
     ]
    }
   ],
   "source": [
    "# Q.10\n",
    "# For each group, find the sum of the three greatest values. You should end up with the answer as follows:\n",
    "# grps\n",
    "# a 409\n",
    "# b 156\n",
    "# c 345\n",
    "\n",
    "print(\"For each group, find the sum of the three greatest values\",df.groupby('grps').vals.nlargest(3).sum(level=0))"
   ]
  },
  {
   "cell_type": "code",
   "execution_count": 16,
   "metadata": {},
   "outputs": [
    {
     "data": {
      "text/html": [
       "<div>\n",
       "<style scoped>\n",
       "    .dataframe tbody tr th:only-of-type {\n",
       "        vertical-align: middle;\n",
       "    }\n",
       "\n",
       "    .dataframe tbody tr th {\n",
       "        vertical-align: top;\n",
       "    }\n",
       "\n",
       "    .dataframe thead th {\n",
       "        text-align: right;\n",
       "    }\n",
       "</style>\n",
       "<table border=\"1\" class=\"dataframe\">\n",
       "  <thead>\n",
       "    <tr style=\"text-align: right;\">\n",
       "      <th></th>\n",
       "      <th>animal</th>\n",
       "      <th>age</th>\n",
       "      <th>visits</th>\n",
       "      <th>priority</th>\n",
       "    </tr>\n",
       "  </thead>\n",
       "  <tbody>\n",
       "    <tr>\n",
       "      <th>a</th>\n",
       "      <td>cat</td>\n",
       "      <td>2.5</td>\n",
       "      <td>1</td>\n",
       "      <td>yes</td>\n",
       "    </tr>\n",
       "    <tr>\n",
       "      <th>b</th>\n",
       "      <td>cat</td>\n",
       "      <td>3.0</td>\n",
       "      <td>3</td>\n",
       "      <td>yes</td>\n",
       "    </tr>\n",
       "    <tr>\n",
       "      <th>c</th>\n",
       "      <td>snake</td>\n",
       "      <td>0.5</td>\n",
       "      <td>2</td>\n",
       "      <td>no</td>\n",
       "    </tr>\n",
       "    <tr>\n",
       "      <th>d</th>\n",
       "      <td>dog</td>\n",
       "      <td>NaN</td>\n",
       "      <td>3</td>\n",
       "      <td>yes</td>\n",
       "    </tr>\n",
       "    <tr>\n",
       "      <th>e</th>\n",
       "      <td>dog</td>\n",
       "      <td>5.0</td>\n",
       "      <td>2</td>\n",
       "      <td>no</td>\n",
       "    </tr>\n",
       "    <tr>\n",
       "      <th>f</th>\n",
       "      <td>cat</td>\n",
       "      <td>2.0</td>\n",
       "      <td>3</td>\n",
       "      <td>no</td>\n",
       "    </tr>\n",
       "    <tr>\n",
       "      <th>g</th>\n",
       "      <td>snake</td>\n",
       "      <td>4.5</td>\n",
       "      <td>1</td>\n",
       "      <td>no</td>\n",
       "    </tr>\n",
       "    <tr>\n",
       "      <th>h</th>\n",
       "      <td>cat</td>\n",
       "      <td>NaN</td>\n",
       "      <td>1</td>\n",
       "      <td>yes</td>\n",
       "    </tr>\n",
       "    <tr>\n",
       "      <th>i</th>\n",
       "      <td>dog</td>\n",
       "      <td>7.0</td>\n",
       "      <td>2</td>\n",
       "      <td>no</td>\n",
       "    </tr>\n",
       "    <tr>\n",
       "      <th>j</th>\n",
       "      <td>dog</td>\n",
       "      <td>3.0</td>\n",
       "      <td>1</td>\n",
       "      <td>no</td>\n",
       "    </tr>\n",
       "  </tbody>\n",
       "</table>\n",
       "</div>"
      ],
      "text/plain": [
       "  animal  age  visits priority\n",
       "a    cat  2.5       1      yes\n",
       "b    cat  3.0       3      yes\n",
       "c  snake  0.5       2       no\n",
       "d    dog  NaN       3      yes\n",
       "e    dog  5.0       2       no\n",
       "f    cat  2.0       3       no\n",
       "g  snake  4.5       1       no\n",
       "h    cat  NaN       1      yes\n",
       "i    dog  7.0       2       no\n",
       "j    dog  3.0       1       no"
      ]
     },
     "execution_count": 16,
     "metadata": {},
     "output_type": "execute_result"
    }
   ],
   "source": [
    "# Q.10\n",
    "# Create a dataframe for the following to answer the next few questions\n",
    "# data = {'animal': ['cat', 'cat', 'snake', 'dog', 'dog', 'cat','snake', 'cat', 'dog', 'dog'],\n",
    "# 'age': [2.5, 3, 0.5, np.nan, 5, 2, 4.5, np.nan, 7, 3],\n",
    "# 'visits': [1, 3, 2, 3, 2, 3, 1, 1, 2, 1],\n",
    "# 'priority': ['yes', 'yes', 'no', 'yes', 'no', 'no', 'no', 'yes', 'no','no']}\n",
    "# labels = ['a', 'b', 'c', 'd', 'e', 'f', 'g', 'h', 'i', 'j']\n",
    "\n",
    "\n",
    "data = {'animal': ['cat', 'cat', 'snake', 'dog', 'dog', 'cat','snake', 'cat', 'dog', 'dog'],\n",
    "'age': [2.5, 3, 0.5, np.nan, 5, 2, 4.5, np.nan, 7, 3],\n",
    "'visits': [1, 3, 2, 3, 2, 3, 1, 1, 2, 1],\n",
    "'priority': ['yes', 'yes', 'no', 'yes', 'no', 'no', 'no', 'yes', 'no','no']}\n",
    "labels = ['a', 'b', 'c', 'd', 'e', 'f', 'g', 'h', 'i', 'j']\n",
    "animals_data=pd.DataFrame(data,index=labels)\n",
    "animals_data"
   ]
  },
  {
   "cell_type": "code",
   "execution_count": 17,
   "metadata": {},
   "outputs": [
    {
     "name": "stdout",
     "output_type": "stream",
     "text": [
      "<class 'pandas.core.frame.DataFrame'>\n",
      "Index: 10 entries, a to j\n",
      "Data columns (total 4 columns):\n",
      " #   Column    Non-Null Count  Dtype  \n",
      "---  ------    --------------  -----  \n",
      " 0   animal    10 non-null     object \n",
      " 1   age       8 non-null      float64\n",
      " 2   visits    10 non-null     int64  \n",
      " 3   priority  10 non-null     object \n",
      "dtypes: float64(1), int64(1), object(2)\n",
      "memory usage: 400.0+ bytes\n",
      "\n",
      " Summary of Basic Description : \n",
      " None\n",
      "\n",
      "\n",
      " Statistical information:\n",
      "             age     visits\n",
      "count  8.000000  10.000000\n",
      "mean   3.437500   1.900000\n",
      "std    2.007797   0.875595\n",
      "min    0.500000   1.000000\n",
      "25%    2.375000   1.000000\n",
      "50%    3.000000   2.000000\n",
      "75%    4.625000   2.750000\n",
      "max    7.000000   3.000000\n"
     ]
    }
   ],
   "source": [
    "# Q.11 Display a summary of the basic information about this DataFrame and its data (hint: there is a single method that can\n",
    "# be called on the DataFrame).\n",
    "\n",
    "\n",
    "print('\\n Summary of Basic Description : \\n',animals_data.info()) \n",
    "print('\\n\\n Statistical information:\\n',animals_data.describe())"
   ]
  },
  {
   "cell_type": "code",
   "execution_count": 20,
   "metadata": {},
   "outputs": [
    {
     "name": "stdout",
     "output_type": "stream",
     "text": [
      "Rows between age 2 and 4\n",
      "   animal  age  visits priority\n",
      "a    cat  2.5       1      yes\n",
      "b    cat  3.0       3      yes\n"
     ]
    }
   ],
   "source": [
    "# Q.12 Select the rows where the age is between 2 and 4 (inclusive).\n",
    "\n",
    "print(\"Rows between age 2 and 4\\n\",animals_data.sort_values(by='age')[2:4])"
   ]
  },
  {
   "cell_type": "code",
   "execution_count": 22,
   "metadata": {},
   "outputs": [
    {
     "name": "stdout",
     "output_type": "stream",
     "text": [
      "Data in rows 3,4,8 and in columns animal,age\n",
      "   animal  age\n",
      "c  snake  0.5\n",
      "e    dog  5.0\n",
      "h    cat  NaN\n"
     ]
    }
   ],
   "source": [
    "# Q.13 Select the data in rows [3, 4, 8] and in columns ['animal', 'age'].\n",
    "\n",
    "print(\"Data in rows 3,4,8 and in columns animal,age\\n\",animals_data.iloc[[2,4,7]][['animal','age']])"
   ]
  },
  {
   "cell_type": "code",
   "execution_count": 23,
   "metadata": {},
   "outputs": [
    {
     "name": "stdout",
     "output_type": "stream",
     "text": [
      "Rows where age is missing i.e NAN\n",
      "   animal  age  visits priority\n",
      "d    dog  NaN       3      yes\n",
      "h    cat  NaN       1      yes\n"
     ]
    }
   ],
   "source": [
    "# Q.14 Select the rows where the age is missing, i.e. it is NaN.\n",
    "\n",
    "print(\"Rows where age is missing i.e NAN\\n\",animals_data[animals_data['age'].isnull()])"
   ]
  },
  {
   "cell_type": "code",
   "execution_count": 24,
   "metadata": {},
   "outputs": [
    {
     "name": "stdout",
     "output_type": "stream",
     "text": [
      "Animal is Cat and age is less than 3\n",
      "   animal  age  visits priority\n",
      "a    cat  2.5       1      yes\n",
      "f    cat  2.0       3       no\n"
     ]
    }
   ],
   "source": [
    "# Q.15 Select the rows where the animal is a cat and the age is less than 3.\n",
    "\n",
    "print(\"Animal is Cat and age is less than 3\\n\",animals_data[(animals_data.animal=='cat') & (animals_data.age<3)])"
   ]
  },
  {
   "cell_type": "code",
   "execution_count": 25,
   "metadata": {},
   "outputs": [
    {
     "name": "stdout",
     "output_type": "stream",
     "text": [
      "Changing age in row f to 1.5\n",
      "   animal  age  visits priority\n",
      "a    cat  2.5       1      yes\n",
      "b    cat  3.0       3      yes\n",
      "c  snake  0.5       2       no\n",
      "d    dog  NaN       3      yes\n",
      "e    dog  5.0       2       no\n",
      "f    cat  1.5       3       no\n",
      "g  snake  4.5       1       no\n",
      "h    cat  NaN       1      yes\n",
      "i    dog  7.0       2       no\n",
      "j    dog  3.0       1       no\n"
     ]
    }
   ],
   "source": [
    "# Q.16 Change the age in row 'f' to 1.5.\n",
    "\n",
    "animals_data.loc['f','age']=1.5 \n",
    "print(\"Changing age in row f to 1.5\\n\",animals_data)"
   ]
  },
  {
   "cell_type": "code",
   "execution_count": 36,
   "metadata": {},
   "outputs": [
    {
     "name": "stdout",
     "output_type": "stream",
     "text": [
      "After changing snake entries to python\n",
      "   animal  age  visits  priority\n",
      "a    cat  2.5       1      True\n",
      "b    cat  3.0       3      True\n",
      "c  snake  0.5       2     False\n",
      "d    dog  NaN       3      True\n",
      "e    dog  5.0       2     False\n",
      "f    cat  1.5       3     False\n",
      "g  snake  4.5       1     False\n",
      "h    cat  NaN       1      True\n",
      "i    dog  7.0       2     False\n",
      "j    dog  3.0       1     False\n"
     ]
    }
   ],
   "source": [
    "# Q.17 In the 'animal' column, change the 'snake' entries to 'python'.\n",
    "\n",
    "animals_data['animal'].replace({\"snake\":\"python\"})\n",
    "print(\"After changing snake entries to python\\n\",animals_data)"
   ]
  },
  {
   "cell_type": "code",
   "execution_count": 32,
   "metadata": {},
   "outputs": [
    {
     "name": "stdout",
     "output_type": "stream",
     "text": [
      "Count number of each type of animal\n",
      " snake    2\n",
      "dog      4\n",
      "cat      4\n",
      "Name: animal, dtype: int64\n"
     ]
    }
   ],
   "source": [
    "# Q.18 Count the number of each type of animal in df.\n",
    "\n",
    "print(\"Count number of each type of animal\\n\",animals_data['animal'].value_counts(ascending=True))"
   ]
  },
  {
   "cell_type": "code",
   "execution_count": 33,
   "metadata": {},
   "outputs": [
    {
     "name": "stdout",
     "output_type": "stream",
     "text": [
      "After changing priority column Yes to True and No to False\n",
      "   animal  age  visits  priority\n",
      "a    cat  2.5       1      True\n",
      "b    cat  3.0       3      True\n",
      "c  snake  0.5       2     False\n",
      "d    dog  NaN       3      True\n",
      "e    dog  5.0       2     False\n",
      "f    cat  1.5       3     False\n",
      "g  snake  4.5       1     False\n",
      "h    cat  NaN       1      True\n",
      "i    dog  7.0       2     False\n",
      "j    dog  3.0       1     False\n"
     ]
    }
   ],
   "source": [
    "# Q.19 The 'priority' column contains the values 'yes' and 'no'. Replace this column with a column of boolean values: 'yes' should be True and 'no' should be False.\n",
    "\n",
    "animals_data['priority'].replace({\"yes\":True,\"no\":False},inplace=True)\n",
    "print(\"After changing priority column Yes to True and No to False\\n\",animals_data)"
   ]
  },
  {
   "cell_type": "code",
   "execution_count": 37,
   "metadata": {},
   "outputs": [
    {
     "name": "stdout",
     "output_type": "stream",
     "text": [
      "Mean ages\n",
      "         age           \n",
      "visits    1    2     3\n",
      "animal                \n",
      "cat     2.5  NaN  2.25\n",
      "dog     3.0  6.0   NaN\n",
      "snake   4.5  0.5   NaN\n"
     ]
    }
   ],
   "source": [
    "# Q.20 For each animal type and each number of visits, find the mean age. In other words, each row is an animal, each column is a number of visits and the values are the mean ages (hint: use a pivot table).\n",
    "# table = animals_data.pivot_table(df, values=['animal'],aggfunc={'age': np.mean})\n",
    "\n",
    "mean_age = pd.pivot_table(animals_data, values=['age'],index=['animal'],columns=['visits'],aggfunc=np.mean)\n",
    "print(\"Mean ages\\n\",mean_age)"
   ]
  },
  {
   "cell_type": "code",
   "execution_count": null,
   "metadata": {},
   "outputs": [],
   "source": []
  },
  {
   "cell_type": "code",
   "execution_count": null,
   "metadata": {},
   "outputs": [],
   "source": []
  },
  {
   "cell_type": "code",
   "execution_count": null,
   "metadata": {},
   "outputs": [],
   "source": []
  },
  {
   "cell_type": "code",
   "execution_count": null,
   "metadata": {},
   "outputs": [],
   "source": []
  },
  {
   "cell_type": "code",
   "execution_count": null,
   "metadata": {},
   "outputs": [],
   "source": []
  },
  {
   "cell_type": "code",
   "execution_count": null,
   "metadata": {},
   "outputs": [],
   "source": []
  },
  {
   "cell_type": "code",
   "execution_count": null,
   "metadata": {},
   "outputs": [],
   "source": []
  },
  {
   "cell_type": "code",
   "execution_count": null,
   "metadata": {},
   "outputs": [],
   "source": []
  },
  {
   "cell_type": "code",
   "execution_count": null,
   "metadata": {},
   "outputs": [],
   "source": []
  },
  {
   "cell_type": "code",
   "execution_count": null,
   "metadata": {},
   "outputs": [],
   "source": []
  },
  {
   "cell_type": "code",
   "execution_count": null,
   "metadata": {},
   "outputs": [],
   "source": []
  },
  {
   "cell_type": "code",
   "execution_count": null,
   "metadata": {},
   "outputs": [],
   "source": []
  },
  {
   "cell_type": "code",
   "execution_count": null,
   "metadata": {},
   "outputs": [],
   "source": []
  },
  {
   "cell_type": "code",
   "execution_count": null,
   "metadata": {},
   "outputs": [],
   "source": []
  },
  {
   "cell_type": "code",
   "execution_count": null,
   "metadata": {},
   "outputs": [],
   "source": [
    "\n"
   ]
  },
  {
   "cell_type": "code",
   "execution_count": null,
   "metadata": {},
   "outputs": [],
   "source": []
  },
  {
   "cell_type": "code",
   "execution_count": null,
   "metadata": {},
   "outputs": [],
   "source": []
  },
  {
   "cell_type": "code",
   "execution_count": null,
   "metadata": {},
   "outputs": [],
   "source": []
  },
  {
   "cell_type": "code",
   "execution_count": null,
   "metadata": {},
   "outputs": [],
   "source": []
  },
  {
   "cell_type": "code",
   "execution_count": null,
   "metadata": {},
   "outputs": [],
   "source": []
  },
  {
   "cell_type": "code",
   "execution_count": null,
   "metadata": {},
   "outputs": [],
   "source": []
  },
  {
   "cell_type": "code",
   "execution_count": null,
   "metadata": {},
   "outputs": [],
   "source": []
  }
 ],
 "metadata": {
  "kernelspec": {
   "display_name": "Python 3",
   "language": "python",
   "name": "python3"
  },
  "language_info": {
   "codemirror_mode": {
    "name": "ipython",
    "version": 3
   },
   "file_extension": ".py",
   "mimetype": "text/x-python",
   "name": "python",
   "nbconvert_exporter": "python",
   "pygments_lexer": "ipython3",
   "version": "3.7.6"
  }
 },
 "nbformat": 4,
 "nbformat_minor": 4
}
